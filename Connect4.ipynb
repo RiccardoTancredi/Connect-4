{
 "cells": [
  {
   "cell_type": "code",
   "execution_count": 1,
   "metadata": {},
   "outputs": [],
   "source": [
    "import numpy as np\n",
    "# import pandas as pd\n",
    "# import matplotlib.pyplot as plt\n",
    "# import pygame"
   ]
  },
  {
   "cell_type": "code",
   "execution_count": 2,
   "metadata": {},
   "outputs": [
    {
     "data": {
      "text/plain": [
       "array([['1', '1', '1', '1', '1', '1', '1'],\n",
       "       ['1', '1', '1', '1', '1', '1', '1'],\n",
       "       ['1', '1', '1', '1', '1', '1', '1'],\n",
       "       ['1', '1', '1', '1', '1', '1', '1'],\n",
       "       ['1', '1', '1', '1', '1', '1', '1'],\n",
       "       ['1', '1', '1', '1', '1', '1', '1']], dtype='<U1')"
      ]
     },
     "execution_count": 2,
     "metadata": {},
     "output_type": "execute_result"
    }
   ],
   "source": [
    "board = np.ones((6, 7), dtype=str)\n",
    "board"
   ]
  },
  {
   "cell_type": "code",
   "execution_count": 3,
   "metadata": {},
   "outputs": [],
   "source": [
    "moveX = 'X'\n",
    "moveO = 'O'\n",
    "# board[0, 0] = moveO"
   ]
  },
  {
   "cell_type": "code",
   "execution_count": 4,
   "metadata": {},
   "outputs": [],
   "source": [
    "def print_board(board):\n",
    "    print(\"-----------------------------\")\n",
    "    rows, cols = board.shape\n",
    "    board_to_print = board.copy()\n",
    "    for i in range(rows-1, -1, -1):\n",
    "        for j in range(cols-1, -1, -1):\n",
    "            if board[i, j] == \"1\":\n",
    "                board_to_print[i, j] = \" \" \n",
    "        print(f\"| {board_to_print[i, 0]} | {board_to_print[i, 1]} | {board_to_print[i, 2]} | {board_to_print[i, 3]} | {board_to_print[i, 4]} | {board_to_print[i, 5]} | {board_to_print[i, 6]} |\")\n",
    "    print(\"-----------------------------\")"
   ]
  },
  {
   "cell_type": "code",
   "execution_count": 5,
   "metadata": {},
   "outputs": [
    {
     "name": "stdout",
     "output_type": "stream",
     "text": [
      "-----------------------------\n",
      "|   |   |   |   |   |   |   |\n",
      "|   |   |   |   |   |   |   |\n",
      "|   |   |   |   |   |   |   |\n",
      "|   |   |   |   |   |   |   |\n",
      "|   |   |   |   |   |   |   |\n",
      "|   |   |   |   |   |   |   |\n",
      "-----------------------------\n"
     ]
    }
   ],
   "source": [
    "print_board(board)"
   ]
  },
  {
   "cell_type": "code",
   "execution_count": 6,
   "metadata": {},
   "outputs": [],
   "source": [
    "def possible_move(board, x, y):\n",
    "    if x > 0 and board[x-1, y] == \"1\": #and board[x, y] == \"1\":\n",
    "        return False\n",
    "    elif board[x, y] in [\"X\", \"O\"]:\n",
    "        return False\n",
    "    else:\n",
    "        return True"
   ]
  },
  {
   "cell_type": "code",
   "execution_count": 8,
   "metadata": {},
   "outputs": [],
   "source": [
    "def make_move(board, piece, x, y):\n",
    "    if possible_move(board, x, y):\n",
    "        board[x, y] = piece\n",
    "    else:\n",
    "        return False\n",
    "    return board"
   ]
  },
  {
   "cell_type": "code",
   "execution_count": 7,
   "metadata": {},
   "outputs": [],
   "source": [
    "def ending_condition(board, piece):\n",
    "    # This function must check correctly if there are 4 elements connected somehow\n",
    "    # players = [\"X\", \"O\"]\n",
    "    rows, cols = board.shape\n",
    "    # Check horizontal locations for win\n",
    "    for c in range(cols-3):\n",
    "        for r in range(rows):\n",
    "            if board[r][c] == piece and board[r][c+1] == piece and board[r][c+2] == piece and board[r][c+3] == piece:\n",
    "                return True\n",
    "\n",
    "    # Check vertical locations for win\n",
    "    for c in range(cols):\n",
    "        for r in range(rows-3):\n",
    "            if board[r][c] == piece and board[r+1][c] == piece and board[r+2][c] == piece and board[r+3][c] == piece:\n",
    "                return True\n",
    "\n",
    "    # Check positively sloped diaganols\n",
    "    for c in range(cols-3):\n",
    "        for r in range(rows-3):\n",
    "            if board[r][c] == piece and board[r+1][c+1] == piece and board[r+2][c+2] == piece and board[r+3][c+3] == piece:\n",
    "                return True\n",
    "\n",
    "    # Check negatively sloped diaganols\n",
    "    for c in range(cols-3):\n",
    "        for r in range(3, rows):\n",
    "            if board[r][c] == piece and board[r-1][c+1] == piece and board[r-2][c+2] == piece and board[r-3][c+3] == piece:\n",
    "                return True"
   ]
  },
  {
   "cell_type": "code",
   "execution_count": 9,
   "metadata": {},
   "outputs": [],
   "source": [
    "def checktie(board):\n",
    "    flat = board.flatten()\n",
    "    if \"1\" not in flat:\n",
    "        return True # it's a tie\n",
    "    return False"
   ]
  },
  {
   "cell_type": "code",
   "execution_count": 10,
   "metadata": {},
   "outputs": [],
   "source": [
    "def create_board():\n",
    "    board = np.ones((6, 7), dtype=str)\n",
    "    return board"
   ]
  },
  {
   "cell_type": "markdown",
   "metadata": {},
   "source": [
    "## The game: 2 players"
   ]
  },
  {
   "cell_type": "code",
   "execution_count": 12,
   "metadata": {
    "scrolled": false
   },
   "outputs": [
    {
     "name": "stdout",
     "output_type": "stream",
     "text": [
      "-----------------------------\n",
      "|   |   |   |   |   |   |   |\n",
      "|   |   |   |   |   |   |   |\n",
      "|   |   |   |   |   |   |   |\n",
      "|   |   |   |   |   |   |   |\n",
      "|   |   |   |   |   |   |   |\n",
      "|   |   |   |   |   |   |   |\n",
      "-----------------------------\n",
      "Move to player X\n",
      "Select the x coordinate of where you want to put your piece x = {1,...,7}1\n",
      "Select the y coordinate of where you want to put your piece y = {1,...,6}1\n",
      "-----------------------------\n",
      "|   |   |   |   |   |   |   |\n",
      "|   |   |   |   |   |   |   |\n",
      "|   |   |   |   |   |   |   |\n",
      "|   |   |   |   |   |   |   |\n",
      "|   |   |   |   |   |   |   |\n",
      "| X |   |   |   |   |   |   |\n",
      "-----------------------------\n",
      "Move to player O\n",
      "Select the x coordinate of where you want to put your piece x = {1,...,7}2\n",
      "Select the y coordinate of where you want to put your piece y = {1,...,6}1\n",
      "-----------------------------\n",
      "|   |   |   |   |   |   |   |\n",
      "|   |   |   |   |   |   |   |\n",
      "|   |   |   |   |   |   |   |\n",
      "|   |   |   |   |   |   |   |\n",
      "|   |   |   |   |   |   |   |\n",
      "| X | O |   |   |   |   |   |\n",
      "-----------------------------\n",
      "Move to player X\n",
      "Select the x coordinate of where you want to put your piece x = {1,...,7}1\n",
      "Select the y coordinate of where you want to put your piece y = {1,...,6}2\n",
      "-----------------------------\n",
      "|   |   |   |   |   |   |   |\n",
      "|   |   |   |   |   |   |   |\n",
      "|   |   |   |   |   |   |   |\n",
      "|   |   |   |   |   |   |   |\n",
      "| X |   |   |   |   |   |   |\n",
      "| X | O |   |   |   |   |   |\n",
      "-----------------------------\n",
      "Move to player O\n",
      "Select the x coordinate of where you want to put your piece x = {1,...,7}3\n",
      "Select the y coordinate of where you want to put your piece y = {1,...,6}1\n",
      "-----------------------------\n",
      "|   |   |   |   |   |   |   |\n",
      "|   |   |   |   |   |   |   |\n",
      "|   |   |   |   |   |   |   |\n",
      "|   |   |   |   |   |   |   |\n",
      "| X |   |   |   |   |   |   |\n",
      "| X | O | O |   |   |   |   |\n",
      "-----------------------------\n",
      "Move to player X\n",
      "Select the x coordinate of where you want to put your piece x = {1,...,7}1\n",
      "Select the y coordinate of where you want to put your piece y = {1,...,6}3\n",
      "-----------------------------\n",
      "|   |   |   |   |   |   |   |\n",
      "|   |   |   |   |   |   |   |\n",
      "|   |   |   |   |   |   |   |\n",
      "| X |   |   |   |   |   |   |\n",
      "| X |   |   |   |   |   |   |\n",
      "| X | O | O |   |   |   |   |\n",
      "-----------------------------\n",
      "Move to player O\n",
      "Select the x coordinate of where you want to put your piece x = {1,...,7}3\n",
      "Select the y coordinate of where you want to put your piece y = {1,...,6}2\n",
      "-----------------------------\n",
      "|   |   |   |   |   |   |   |\n",
      "|   |   |   |   |   |   |   |\n",
      "|   |   |   |   |   |   |   |\n",
      "| X |   |   |   |   |   |   |\n",
      "| X |   | O |   |   |   |   |\n",
      "| X | O | O |   |   |   |   |\n",
      "-----------------------------\n",
      "Move to player X\n",
      "Select the x coordinate of where you want to put your piece x = {1,...,7}1\n",
      "Select the y coordinate of where you want to put your piece y = {1,...,6}4\n",
      "-----------------------------\n",
      "|   |   |   |   |   |   |   |\n",
      "|   |   |   |   |   |   |   |\n",
      "| X |   |   |   |   |   |   |\n",
      "| X |   |   |   |   |   |   |\n",
      "| X |   | O |   |   |   |   |\n",
      "| X | O | O |   |   |   |   |\n",
      "-----------------------------\n",
      "X won the game!!!\n"
     ]
    }
   ],
   "source": [
    "run = True\n",
    "turn = 0\n",
    "board = create_board()\n",
    "print_board(board)\n",
    "while run:\n",
    "    # player1: X\n",
    "    # player2: O\n",
    "    players = [moveX, moveO]\n",
    "    \n",
    "    print(f\"Move to player {players[turn]}\")\n",
    "    try:\n",
    "        x = int(input(\"Select the x coordinate of where you want to put your piece x = {1,...,7}\"))-1\n",
    "        y = int(input(\"Select the y coordinate of where you want to put your piece y = {1,...,6}\"))-1\n",
    "    except:\n",
    "        print(\"The game has been quitted\")\n",
    "    x, y = y, x # swap coordinates since we are flipping how we are indexing the board \n",
    "    new_board = make_move(board, players[turn], x, y)\n",
    "\n",
    "    if type(new_board) != bool:\n",
    "        board = new_board.copy()\n",
    "        print_board(board)\n",
    "        if ending_condition(board, players[turn]):\n",
    "            print(f\"{players[turn]} won the game!!!\")\n",
    "            run = False\n",
    "        elif checktie(board):\n",
    "            print(\"It's a tie!!!\")\n",
    "            run = False\n",
    "        turn += 1\n",
    "    else:\n",
    "        print(\"The move is not available try again\")\n",
    "    turn %= 2"
   ]
  },
  {
   "cell_type": "code",
   "execution_count": null,
   "metadata": {},
   "outputs": [],
   "source": []
  },
  {
   "cell_type": "markdown",
   "metadata": {},
   "source": [
    "## Tha game: basic CPU"
   ]
  },
  {
   "cell_type": "code",
   "execution_count": 13,
   "metadata": {
    "scrolled": false
   },
   "outputs": [
    {
     "name": "stdout",
     "output_type": "stream",
     "text": [
      "-----------------------------\n",
      "|   |   |   |   |   |   |   |\n",
      "|   |   |   |   |   |   |   |\n",
      "|   |   |   |   |   |   |   |\n",
      "|   |   |   |   |   |   |   |\n",
      "|   |   |   |   |   |   |   |\n",
      "|   |   |   |   |   |   |   |\n",
      "-----------------------------\n",
      "Move to player X\n",
      "Select the x coordinate of where you want to put your piece x = {1,...,7}1\n",
      "Select the y coordinate of where you want to put your piece y = {1,...,6}1\n",
      "-----------------------------\n",
      "|   |   |   |   |   |   |   |\n",
      "|   |   |   |   |   |   |   |\n",
      "|   |   |   |   |   |   |   |\n",
      "|   |   |   |   |   |   |   |\n",
      "|   |   |   |   |   |   |   |\n",
      "| X |   |   |   |   |   |   |\n",
      "-----------------------------\n",
      "Move to player O\n",
      "Move to player O\n",
      "Move to player O\n",
      "Move to player O\n",
      "Move to player O\n",
      "-----------------------------\n",
      "|   |   |   |   |   |   |   |\n",
      "|   |   |   |   |   |   |   |\n",
      "|   |   |   |   |   |   |   |\n",
      "|   |   |   |   |   |   |   |\n",
      "| O |   |   |   |   |   |   |\n",
      "| X |   |   |   |   |   |   |\n",
      "-----------------------------\n",
      "Move to player X\n",
      "Select the x coordinate of where you want to put your piece x = {1,...,7}2\n",
      "Select the y coordinate of where you want to put your piece y = {1,...,6}1\n",
      "-----------------------------\n",
      "|   |   |   |   |   |   |   |\n",
      "|   |   |   |   |   |   |   |\n",
      "|   |   |   |   |   |   |   |\n",
      "|   |   |   |   |   |   |   |\n",
      "| O |   |   |   |   |   |   |\n",
      "| X | X |   |   |   |   |   |\n",
      "-----------------------------\n",
      "-----------------------------\n",
      "|   |   |   |   |   |   |   |\n",
      "|   |   |   |   |   |   |   |\n",
      "|   |   |   |   |   |   |   |\n",
      "|   |   |   |   |   |   |   |\n",
      "| O | O |   |   |   |   |   |\n",
      "| X | X |   |   |   |   |   |\n",
      "-----------------------------\n",
      "Move to player X\n",
      "Select the x coordinate of where you want to put your piece x = {1,...,7}3\n",
      "Select the y coordinate of where you want to put your piece y = {1,...,6}1\n",
      "-----------------------------\n",
      "|   |   |   |   |   |   |   |\n",
      "|   |   |   |   |   |   |   |\n",
      "|   |   |   |   |   |   |   |\n",
      "|   |   |   |   |   |   |   |\n",
      "| O | O |   |   |   |   |   |\n",
      "| X | X | X |   |   |   |   |\n",
      "-----------------------------\n",
      "Move to player O\n",
      "-----------------------------\n",
      "|   |   |   |   |   |   |   |\n",
      "|   |   |   |   |   |   |   |\n",
      "|   |   |   |   |   |   |   |\n",
      "|   |   |   |   |   |   |   |\n",
      "| O | O |   |   |   |   |   |\n",
      "| X | X | X |   |   |   | O |\n",
      "-----------------------------\n",
      "Move to player X\n",
      "Select the x coordinate of where you want to put your piece x = {1,...,7}4\n",
      "Select the y coordinate of where you want to put your piece y = {1,...,6}1\n",
      "-----------------------------\n",
      "|   |   |   |   |   |   |   |\n",
      "|   |   |   |   |   |   |   |\n",
      "|   |   |   |   |   |   |   |\n",
      "|   |   |   |   |   |   |   |\n",
      "| O | O |   |   |   |   |   |\n",
      "| X | X | X | X |   |   | O |\n",
      "-----------------------------\n",
      "X won the game!!!\n"
     ]
    }
   ],
   "source": [
    "run = True\n",
    "turn = 0\n",
    "board = create_board()\n",
    "print_board(board)\n",
    "while run:\n",
    "    # player1: X\n",
    "    # player2: O ----> computer \n",
    "    players = [moveX, moveO]\n",
    "    \n",
    "    print(f\"Move to player {players[turn]}\")\n",
    "    if turn == 0:\n",
    "        try:\n",
    "            x = int(input(\"Select the x coordinate of where you want to put your piece x = {1,...,7}\"))-1\n",
    "            y = int(input(\"Select the y coordinate of where you want to put your piece y = {1,...,6}\"))-1\n",
    "        except:\n",
    "            print(\"The game has been quitted\")\n",
    "        x, y = y, x # swap coordinates since we are flipping how we are indexing the board \n",
    "        new_board = make_move(board, players[turn], x, y)\n",
    "\n",
    "        if type(new_board) != bool:\n",
    "            board = new_board.copy()\n",
    "            print_board(board)\n",
    "            if ending_condition(board, players[turn]):\n",
    "                print(f\"{players[turn]} won the game!!!\")\n",
    "                run = False\n",
    "            elif checktie(board):\n",
    "                print(\"It's a tie!!!\")\n",
    "                run = False\n",
    "            turn += 1\n",
    "        else:\n",
    "            print(\"The move is not available try again\")\n",
    "    \n",
    "    # computer thinking...\n",
    "    x, y = np.random.randint(low=0, high=6), np.random.randint(low=0, high=7) # swapped: see line 17\n",
    "    new_board = make_move(board, players[turn], x, y)\n",
    "\n",
    "    if type(new_board) != bool:\n",
    "        board = new_board.copy()\n",
    "        print_board(board)\n",
    "        if ending_condition(board, players[turn]):\n",
    "            print(f\"{players[turn]} won the game!!!\")\n",
    "            run = False\n",
    "        elif checktie(board):\n",
    "            print(\"It's a tie!!!\")\n",
    "            run = False\n",
    "        turn += 1\n",
    "        \n",
    "    turn %= 2"
   ]
  },
  {
   "cell_type": "code",
   "execution_count": null,
   "metadata": {},
   "outputs": [],
   "source": []
  },
  {
   "cell_type": "markdown",
   "metadata": {},
   "source": [
    "## Tha game: Min-Max algorithm"
   ]
  },
  {
   "cell_type": "code",
   "execution_count": null,
   "metadata": {},
   "outputs": [],
   "source": [
    "# ToDo"
   ]
  }
 ],
 "metadata": {
  "kernelspec": {
   "display_name": "Python 3",
   "language": "python",
   "name": "python3"
  },
  "language_info": {
   "codemirror_mode": {
    "name": "ipython",
    "version": 3
   },
   "file_extension": ".py",
   "mimetype": "text/x-python",
   "name": "python",
   "nbconvert_exporter": "python",
   "pygments_lexer": "ipython3",
   "version": "3.7.13"
  },
  "vscode": {
   "interpreter": {
    "hash": "7cc63d8bb06c1e0227ac9b01a159a9605014b04eb1faff35da1ccc42cc4f7246"
   }
  }
 },
 "nbformat": 4,
 "nbformat_minor": 2
}
